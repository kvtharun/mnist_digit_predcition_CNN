{
 "cells": [
  {
   "cell_type": "code",
   "execution_count": 1,
   "metadata": {},
   "outputs": [],
   "source": [
    "import tensorflow \n",
    "from tensorflow.keras.models import Sequential\n",
    "from tensorflow.keras.layers import Dense,Dropout,Conv2D,MaxPooling2D,Flatten,BatchNormalization\n",
    "from tensorflow.keras.datasets import mnist\n",
    "\n",
    "import tensorflow.keras.backend as K"
   ]
  },
  {
   "cell_type": "code",
   "execution_count": 2,
   "metadata": {},
   "outputs": [],
   "source": [
    "(x_train,y_train),(x_test,y_test)=mnist.load_data()"
   ]
  },
  {
   "cell_type": "code",
   "execution_count": 3,
   "metadata": {},
   "outputs": [
    {
     "name": "stdout",
     "output_type": "stream",
     "text": [
      "Dimension of x_train (60000, 28, 28)\n",
      "Dimension of x_test (10000, 28, 28)\n",
      "Dimension of y_test (10000,)\n"
     ]
    }
   ],
   "source": [
    "#Now we will se our dataset\n",
    "\n",
    "print(\"Dimension of x_train\",x_train.shape)\n",
    "print(\"Dimension of x_test\",x_test.shape)\n",
    "print(\"Dimension of y_test\",y_test.shape)"
   ]
  },
  {
   "cell_type": "code",
   "execution_count": 4,
   "metadata": {},
   "outputs": [
    {
     "data": {
      "image/png": "[encoded data removed]",
      "text/plain": [
       "<Figure size 640x480 with 1 Axes>"
      ]
     },
     "metadata": {},
     "output_type": "display_data"
    },
    {
     "name": "stdout",
     "output_type": "stream",
     "text": [
      "4\n"
     ]
    }
   ],
   "source": [
    "import numpy as np\n",
    "import matplotlib.pyplot as plt\n",
    "plt.imshow(x_train[9])\n",
    "plt.show()\n",
    "print(y_train[9])"
   ]
  },
  {
   "cell_type": "code",
   "execution_count": 5,
   "metadata": {},
   "outputs": [],
   "source": [
    "num_classes = 10\n",
    "#as we have 10 classes (0-9) \n",
    "#we need to prdeict one out of 10 which has high probability\n",
    "epochs = 30\n",
    "img_rows = 28 \n",
    "img_cols = 28\n",
    "#as each image is 28 by 28 pixel"
   ]
  },
  {
   "cell_type": "code",
   "execution_count": 6,
   "metadata": {},
   "outputs": [],
   "source": [
    "x_train =x_train.astype(float)\n",
    "x_train =x_train/255\n",
    "x_test =x_test.astype(float)\n",
    "x_test =x_test/255\n",
    "#y_train =y_train/255\n",
    "from tensorflow.keras.utils import to_categorical\n",
    "y_train = to_categorical(y_train, num_classes = 10, dtype = 'float32')\n",
    "y_test = to_categorical(y_test, num_classes = 10, dtype = 'float32')"
   ]
  },
  {
   "cell_type": "code",
   "execution_count": 7,
   "metadata": {},
   "outputs": [],
   "source": [
    "#format in which image are feed to our model \n",
    "#there are two cases possible either we can have channel first than image dimension\n",
    "#or we can have dimension first than channel \n",
    "#we have one channel as it is a grey scale image therfore '1'\n",
    "if K.image_data_format() =='channels_first':\n",
    "    x_train = x_train.reshape(x_train.shape[0],1,img_rows,img_cols)\n",
    "    x_test = x_test.reshape(x_test.shape[0],1,img_rows,img_cols)\n",
    "    input_shape = (1,img_rows,img_cols)\n",
    "else:\n",
    "    x_train = x_train.reshape(x_train.shape[0],img_rows,img_cols,1)\n",
    "    x_test = x_test.reshape(x_test.shape[0],img_rows,img_cols,1)\n",
    "    input_shape = (img_rows,img_cols,1)"
   ]
  },
  {
   "cell_type": "code",
   "execution_count": 8,
   "metadata": {},
   "outputs": [],
   "source": [
    "#BY DEFAULT STRIDE IS 1\n",
    "model = Sequential()\n",
    "model.add(Conv2D(32, kernel_size = 3, activation='relu', input_shape = input_shape))\n",
    "model.add(MaxPooling2D())\n",
    "model.add(Conv2D(32, kernel_size = 3, activation='relu'))\n",
    "model.add(BatchNormalization())\n",
    "model.add(Conv2D(32, kernel_size = 5, strides=2, padding='same', activation='relu'))\n",
    "model.add(BatchNormalization())\n",
    "model.add(Dropout(0.4))\n",
    "model.add(Conv2D(64, kernel_size = 3, activation='relu'))\n",
    "model.add(BatchNormalization())\n",
    "model.add(Conv2D(64, kernel_size = 3, activation='relu'))\n",
    "model.add(BatchNormalization())\n",
    "model.add(Conv2D(64, kernel_size = 5, strides=2, padding='same', activation='relu'))\n",
    "model.add(Dense(10, activation='softmax'))  # 10 units for 10 classes\n",
    "\n",
    "model.add(BatchNormalization())\n",
    "model.add(Dropout(0.4))\n",
    "model.add(Flatten())\n",
    "model.add(Dropout(0.4))\n",
    "model.add(Dense(10, activation='softmax'))"
   ]
  },
  {
   "cell_type": "code",
   "execution_count": 9,
   "metadata": {},
   "outputs": [
    {
     "name": "stdout",
     "output_type": "stream",
     "text": [
      "Epoch 1/30\n",
      "38/38 [==============================] - 20s 477ms/step - loss: 1.4564 - accuracy: 0.4848 - val_loss: 2.2961 - val_accuracy: 0.0982\n",
      "Epoch 2/30\n",
      "38/38 [==============================] - 18s 463ms/step - loss: 1.0299 - accuracy: 0.6468 - val_loss: 2.2711 - val_accuracy: 0.1476\n",
      "Epoch 3/30\n",
      "38/38 [==============================] - 18s 481ms/step - loss: 0.8947 - accuracy: 0.6937 - val_loss: 2.2331 - val_accuracy: 0.2378\n",
      "Epoch 4/30\n",
      "38/38 [==============================] - 18s 486ms/step - loss: 0.8031 - accuracy: 0.7230 - val_loss: 2.2038 - val_accuracy: 0.2990\n",
      "Epoch 5/30\n",
      "38/38 [==============================] - 18s 485ms/step - loss: 0.7448 - accuracy: 0.7382 - val_loss: 2.1631 - val_accuracy: 0.2910\n",
      "Epoch 6/30\n",
      "38/38 [==============================] - 20s 531ms/step - loss: 0.6960 - accuracy: 0.7507 - val_loss: 2.1109 - val_accuracy: 0.2713\n",
      "Epoch 7/30\n",
      "38/38 [==============================] - 21s 563ms/step - loss: 0.6596 - accuracy: 0.7614 - val_loss: 1.9138 - val_accuracy: 0.4064\n",
      "Epoch 8/30\n",
      "38/38 [==============================] - 19s 491ms/step - loss: 0.6349 - accuracy: 0.7624 - val_loss: 1.7213 - val_accuracy: 0.4901\n",
      "Epoch 9/30\n",
      "38/38 [==============================] - 1564s 42s/step - loss: 0.6024 - accuracy: 0.7723 - val_loss: 1.2078 - val_accuracy: 0.7919\n",
      "Epoch 10/30\n",
      "38/38 [==============================] - 16s 433ms/step - loss: 0.5936 - accuracy: 0.7703 - val_loss: 0.8418 - val_accuracy: 0.9027\n",
      "Epoch 11/30\n",
      "38/38 [==============================] - 19s 496ms/step - loss: 0.5671 - accuracy: 0.7759 - val_loss: 0.8413 - val_accuracy: 0.8292\n",
      "Epoch 12/30\n",
      "38/38 [==============================] - 19s 489ms/step - loss: 0.5502 - accuracy: 0.7802 - val_loss: 0.5657 - val_accuracy: 0.8920\n",
      "Epoch 13/30\n",
      "38/38 [==============================] - 19s 494ms/step - loss: 0.5345 - accuracy: 0.7807 - val_loss: 0.1955 - val_accuracy: 0.9849\n",
      "Epoch 14/30\n",
      "38/38 [==============================] - 28s 740ms/step - loss: 0.5233 - accuracy: 0.7881 - val_loss: 0.1188 - val_accuracy: 0.9885\n",
      "Epoch 15/30\n",
      "38/38 [==============================] - 20s 527ms/step - loss: 0.5157 - accuracy: 0.7860 - val_loss: 0.0831 - val_accuracy: 0.9905\n",
      "Epoch 16/30\n",
      "38/38 [==============================] - 21s 562ms/step - loss: 0.5076 - accuracy: 0.7858 - val_loss: 0.0616 - val_accuracy: 0.9904\n",
      "Epoch 17/30\n",
      "38/38 [==============================] - 19s 492ms/step - loss: 0.4988 - accuracy: 0.7901 - val_loss: 0.0480 - val_accuracy: 0.9924\n",
      "Epoch 18/30\n",
      "38/38 [==============================] - 17s 458ms/step - loss: 0.4942 - accuracy: 0.7883 - val_loss: 0.0639 - val_accuracy: 0.9880\n",
      "Epoch 19/30\n",
      "38/38 [==============================] - 18s 465ms/step - loss: 0.4813 - accuracy: 0.7943 - val_loss: 0.0454 - val_accuracy: 0.9909\n",
      "Epoch 20/30\n",
      "38/38 [==============================] - 18s 484ms/step - loss: 0.4795 - accuracy: 0.7916 - val_loss: 0.0385 - val_accuracy: 0.9919\n",
      "Epoch 21/30\n",
      "38/38 [==============================] - 18s 482ms/step - loss: 0.4691 - accuracy: 0.7948 - val_loss: 0.0357 - val_accuracy: 0.9925\n",
      "Epoch 22/30\n",
      "38/38 [==============================] - 18s 470ms/step - loss: 0.4657 - accuracy: 0.7989 - val_loss: 0.0329 - val_accuracy: 0.9930\n",
      "Epoch 23/30\n",
      "38/38 [==============================] - 18s 476ms/step - loss: 0.4608 - accuracy: 0.7988 - val_loss: 0.0337 - val_accuracy: 0.9928\n",
      "Epoch 24/30\n",
      "38/38 [==============================] - 18s 482ms/step - loss: 0.4601 - accuracy: 0.7996 - val_loss: 0.0316 - val_accuracy: 0.9930\n",
      "Epoch 25/30\n",
      "38/38 [==============================] - 18s 480ms/step - loss: 0.4465 - accuracy: 0.8069 - val_loss: 0.0341 - val_accuracy: 0.9925\n",
      "Epoch 26/30\n",
      "38/38 [==============================] - 19s 507ms/step - loss: 0.4449 - accuracy: 0.8084 - val_loss: 0.0353 - val_accuracy: 0.9921\n",
      "Epoch 27/30\n",
      "38/38 [==============================] - 18s 474ms/step - loss: 0.4407 - accuracy: 0.8078 - val_loss: 0.0428 - val_accuracy: 0.9918\n",
      "Epoch 28/30\n",
      "38/38 [==============================] - 18s 468ms/step - loss: 0.4375 - accuracy: 0.8109 - val_loss: 0.0301 - val_accuracy: 0.9935\n",
      "Epoch 29/30\n",
      "38/38 [==============================] - 18s 467ms/step - loss: 0.4323 - accuracy: 0.8138 - val_loss: 0.0339 - val_accuracy: 0.9929\n",
      "Epoch 30/30\n",
      "38/38 [==============================] - 18s 471ms/step - loss: 0.4262 - accuracy: 0.8122 - val_loss: 0.0284 - val_accuracy: 0.9946\n"
     ]
    },
    {
     "data": {
      "text/plain": [
       "<keras.src.callbacks.History at 0x292a7d38a50>"
      ]
     },
     "execution_count": 9,
     "metadata": {},
     "output_type": "execute_result"
    }
   ],
   "source": [
    "model.compile(loss='categorical_crossentropy', optimizer='adam', metrics=['accuracy'])\n",
    "model.fit(x_train, y_train, batch_size= 1579, epochs=epochs, validation_data=(x_test, y_test))\n",
    "\n"
   ]
  },
  {
   "cell_type": "code",
   "execution_count": 10,
   "metadata": {},
   "outputs": [
    {
     "name": "stdout",
     "output_type": "stream",
     "text": [
      "Model: \"sequential\"\n",
      "_________________________________________________________________\n",
      " Layer (type)                Output Shape              Param #   \n",
      "=================================================================\n",
      " conv2d (Conv2D)             (None, 26, 26, 32)        320       \n",
      "                                                                 \n",
      " max_pooling2d (MaxPooling2  (None, 13, 13, 32)        0         \n",
      " D)                                                              \n",
      "                                                                 \n",
      " conv2d_1 (Conv2D)           (None, 11, 11, 32)        9248      \n",
      "                                                                 \n",
      " batch_normalization (Batch  (None, 11, 11, 32)        128       \n",
      " Normalization)                                                  \n",
      "                                                                 \n",
      " conv2d_2 (Conv2D)           (None, 6, 6, 32)          25632     \n",
      "                                                                 \n",
      " batch_normalization_1 (Bat  (None, 6, 6, 32)          128       \n",
      " chNormalization)                                                \n",
      "                                                                 \n",
      " dropout (Dropout)           (None, 6, 6, 32)          0         \n",
      "                                                                 \n",
      " conv2d_3 (Conv2D)           (None, 4, 4, 64)          18496     \n",
      "                                                                 \n",
      " batch_normalization_2 (Bat  (None, 4, 4, 64)          256       \n",
      " chNormalization)                                                \n",
      "                                                                 \n",
      " conv2d_4 (Conv2D)           (None, 2, 2, 64)          36928     \n",
      "                                                                 \n",
      " batch_normalization_3 (Bat  (None, 2, 2, 64)          256       \n",
      " chNormalization)                                                \n",
      "                                                                 \n",
      " conv2d_5 (Conv2D)           (None, 1, 1, 64)          102464    \n",
      "                                                                 \n",
      " dense (Dense)               (None, 1, 1, 10)          650       \n",
      "                                                                 \n",
      " batch_normalization_4 (Bat  (None, 1, 1, 10)          40        \n",
      " chNormalization)                                                \n",
      "                                                                 \n",
      " dropout_1 (Dropout)         (None, 1, 1, 10)          0         \n",
      "                                                                 \n",
      " flatten (Flatten)           (None, 10)                0         \n",
      "                                                                 \n",
      " dropout_2 (Dropout)         (None, 10)                0         \n",
      "                                                                 \n",
      " dense_1 (Dense)             (None, 10)                110       \n",
      "                                                                 \n",
      "=================================================================\n",
      "Total params: 194656 (760.38 KB)\n",
      "Trainable params: 194252 (758.80 KB)\n",
      "Non-trainable params: 404 (1.58 KB)\n",
      "_________________________________________________________________\n"
     ]
    }
   ],
   "source": [
    "model.summary()"
   ]
  },
  {
   "cell_type": "code",
   "execution_count": 11,
   "metadata": {},
   "outputs": [
    {
     "name": "stdout",
     "output_type": "stream",
     "text": [
      "313/313 [==============================] - 2s 7ms/step - loss: 0.0284 - accuracy: 0.9946\n",
      "Score is : 0.028394781053066254\n",
      "Accuracy : 0.9945999979972839\n"
     ]
    }
   ],
   "source": [
    "score ,acc = model.evaluate(x_test,y_test)\n",
    "print(\"Score is :\",score)\n",
    "print(\"Accuracy :\",acc)"
   ]
  },
  {
   "cell_type": "code",
   "execution_count": 12,
   "metadata": {},
   "outputs": [],
   "source": [
    "import tensorflow as tf\n",
    "\n",
    "# Assuming you have a pre-trained Keras model\n",
    "# model = ...\n",
    "\n",
    "# Save the model architecture to a JSON file\n",
    "model_json = model.to_json()\n",
    "with open(\"model.json\", \"w\") as json_file:\n",
    "    json_file.write(model_json)\n",
    "\n",
    "# Save the model weights to an HDF5 file\n",
    "model.save_weights(\"model_weights.h5\")\n",
    "\n",
    "# Optionally, if you want to save the entire model (architecture + weights) to a single HDF5 file:\n",
    "# model.save(\"full_model.h5\")\n"
   ]
  },
  {
   "cell_type": "code",
   "execution_count": null,
   "metadata": {},
   "outputs": [],
   "source": []
  },
  {
   "cell_type": "code",
   "execution_count": null,
   "metadata": {},
   "outputs": [],
   "source": []
  },
  {
   "cell_type": "code",
   "execution_count": null,
   "metadata": {},
   "outputs": [],
   "source": []
  },
  {
   "cell_type": "code",
   "execution_count": null,
   "metadata": {},
   "outputs": [],
   "source": []
  }
 ],
 "metadata": {
  "kernelspec": {
   "display_name": "Python 3 (ipykernel)",
   "language": "python",
   "name": "python3"
  },
  "language_info": {
   "codemirror_mode": {
    "name": "ipython",
    "version": 3
   },
   "file_extension": ".py",
   "mimetype": "text/x-python",
   "name": "python",
   "nbconvert_exporter": "python",
   "pygments_lexer": "ipython3",
   "version": "3.11.3"
  }
 },
 "nbformat": 4,
 "nbformat_minor": 2
}
